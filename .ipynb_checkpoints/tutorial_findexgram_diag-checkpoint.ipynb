{
 "cells": [
  {
   "cell_type": "markdown",
   "id": "990f4c78",
   "metadata": {},
   "source": [
    "# Introduction "
   ]
  },
  {
   "cell_type": "markdown",
   "id": "20a12e0a",
   "metadata": {},
   "source": [
    "This tutorial is going to show the findexgram method for machinery fault diagnosis. "
   ]
  },
  {
   "cell_type": "markdown",
   "id": "e9c20a53",
   "metadata": {},
   "source": [
    "## Data"
   ]
  },
  {
   "cell_type": "markdown",
   "id": "a576bdcd",
   "metadata": {},
   "source": [
    " We are going to use the well-known [CWRU Bearing Dataset](https://engineering.case.edu/bearingdatacenter).\n",
    " \n",
    "In particular, an outer race fault data belonging to the [12k Drive End Bearing Fault](https://engineering.case.edu/bearingdatacenter/12k-drive-end-bearing-fault-data) is used. "
   ]
  },
  {
   "cell_type": "markdown",
   "id": "2ccca7e2",
   "metadata": {},
   "source": [
    "# Findexgram for Fault Diagnosis"
   ]
  },
  {
   "cell_type": "markdown",
   "id": "3f0f9670",
   "metadata": {},
   "source": [
    "## Import Packages"
   ]
  },
  {
   "cell_type": "code",
   "execution_count": 1,
   "id": "df3667f4",
   "metadata": {},
   "outputs": [],
   "source": [
    "# ----- standard packages\n",
    "import numpy as np\n",
    "import matplotlib.pyplot as plt\n",
    "import os\n",
    "# ----- findexgram and the fault index function \n",
    "from dbtpy.filters.findexgram import findexgram\n",
    "from dbtpy.findexes.afindex import findex_fun\n",
    "# ----- save and read\n",
    "from dbtpy.tools.file_tools import get_time, save_dict, read_dict\n",
    "# ----- visulizatioin \n",
    "from dbtpy.filters.findexgram import nextpow2\n",
    "from dbtpy.tools.visual_tools import show_ses_xy, show_heatmap\n",
    "# ----- data \n",
    "from dbtpy.data.CWRU.cwru_data import CWRU_Data \n",
    "# ----- quantitative analysis\n",
    "from dbtpy.findexes.harmonics import harEstimation, vanillaSNR, harkurtosis, CHNR\n"
   ]
  },
  {
   "cell_type": "markdown",
   "id": "7ca88bfc",
   "metadata": {},
   "source": [
    "## Load Data"
   ]
  },
  {
   "cell_type": "code",
   "execution_count": 2,
   "id": "aceacbc7",
   "metadata": {},
   "outputs": [],
   "source": [
    "##########################################################################\n",
    "# ---------------------------- CWRU_Data ----------------------------------\n",
    "data = CWRU_Data()\n",
    "sig_kargs={}\n",
    "sig_kargs['fault_str'] = '147.mat'\n",
    "sig_kargs['fs'] = 12e3\n",
    "sig_kargs['position'] = 'DE'\n",
    "sig_kargs['resolution'] = 1\n",
    "sig_kargs['path'] = r'E:\\CityU\\CWRU\\12k Drive End Bearing Fault Data1\\out'\n",
    "sig = data.load(**sig_kargs)"
   ]
  },
  {
   "cell_type": "markdown",
   "id": "d634db79",
   "metadata": {},
   "source": [
    "## Define the Fault Index"
   ]
  },
  {
   "cell_type": "code",
   "execution_count": 3,
   "id": "edd5ae9e",
   "metadata": {},
   "outputs": [],
   "source": [
    "##########################################################################\n",
    "#--------------------------------------------------------------------------\n",
    "#-- define the fault index dictionary\n",
    "findexBase = 'gini' # the base fault index \n",
    "sigD = 'env' # the signal domain for calculating the fault index \n",
    "\n",
    "findex_dict ={'findex_fun':findex_fun,                      \n",
    "                  'findex_kwargs':{'findexBase':findexBase, \n",
    "                                    'sigD':sigD}\n",
    "                  }"
   ]
  },
  {
   "cell_type": "markdown",
   "id": "ed22d586",
   "metadata": {},
   "source": [
    "## Information You Want to Save"
   ]
  },
  {
   "cell_type": "code",
   "execution_count": 4,
   "id": "dde67e98",
   "metadata": {},
   "outputs": [],
   "source": [
    "###########################################################################\n",
    "#-- save important information into the dictionary\n",
    "path=r'tutorial\\findexgram_diag'\n",
    "\n",
    "alg_save_dict = {}\n",
    "alg_save_dict['alg_name'] = 'findexgram_'+findexBase + '_' + sigD \n",
    "alg_save_dict['findex_str'] = findexBase + '_' + sigD \n",
    "alg_save_dict['save_path'] =  path\n",
    "alg_save_dict['save_fileName'] = {}\n",
    "alg_save_dict['save_fileName']['dict'] ='dict_'+ alg_save_dict['alg_name'] +'_'+ get_time() + '.txt'\n",
    "alg_save_dict['save_fileName']['ses'] = 'ses_'+alg_save_dict['alg_name']  +'_'+ get_time() + '.png'\n",
    "alg_save_dict['save_fileName']['heatmap'] = 'heatmap_'+alg_save_dict['alg_name'] +'_'+ get_time() + '.png'\n",
    "\n",
    "#-- sig info.\n",
    "alg_save_dict['sig_fs'] = data.fs # sampling frequency\n",
    "alg_save_dict['sig'] = sig.tolist()\n",
    "alg_save_dict['sig_path'] = sig_kargs['path']\n",
    "alg_save_dict['sig_opt'] = {'findex':[], # fault index\n",
    "                            'level':[],  # tree level\n",
    "                            'Bw':[],     # bandwidth\n",
    "                            'fc':[],     # central frequency (should multiply by fs to show the result)  \n",
    "                            'sig_c':[],  # complex signal\n",
    "                            'ses_x':[],  # value of ses_horizonal axis\n",
    "                            'ses_y':[],  # value of ses_vertical axis\n",
    "                            'Kwav':[],   # value of fault index in the findexgram\n",
    "                            'freq_w':[], # x-axis of the findexgram\n",
    "                            'Level_w':[],# y-axis of the findexgram\n",
    "                            'nlevel':[], # maximum level\n",
    "                            'f_target':[]} # target frequency"
   ]
  },
  {
   "cell_type": "markdown",
   "id": "43bc89a9",
   "metadata": {},
   "source": [
    "## Run the Algorithm "
   ]
  },
  {
   "cell_type": "code",
   "execution_count": null,
   "id": "f109ea19",
   "metadata": {},
   "outputs": [],
   "source": [
    "###########################################################################\n",
    "#-- diagnosis  \n",
    "\n",
    "# determine maximum level based on the minimun bandwidth required\n",
    "minB = 6*data.f_target # rule of thumb: 3-6 times of the fault frequency \n",
    "for i in range(int(np.floor(np.log2(len(sig))))):\n",
    "    if minB * 2**i > 0.5 * data.fs:\n",
    "        break\n",
    "nlevel = i-1\n",
    "\n",
    "#-- get the optimal signal, here the complex_subsig has been downsampled\n",
    "#-- please refer to the paper of fast kurtorgam  for more details\n",
    "([M, lev, Bw, fc], [c, ses_x, ses_y], [Kwav, freq_w, Level_w] ) = findexgram(sig = sig, nlevel = nlevel, \n",
    "                                                                              findex_dict = findex_dict, \n",
    "                                                                              fs = data.fs ) "
   ]
  }
 ],
 "metadata": {
  "kernelspec": {
   "display_name": "Python 3",
   "language": "python",
   "name": "python3"
  },
  "language_info": {
   "codemirror_mode": {
    "name": "ipython",
    "version": 3
   },
   "file_extension": ".py",
   "mimetype": "text/x-python",
   "name": "python",
   "nbconvert_exporter": "python",
   "pygments_lexer": "ipython3",
   "version": "3.8.5"
  },
  "toc": {
   "base_numbering": 1,
   "nav_menu": {},
   "number_sections": true,
   "sideBar": true,
   "skip_h1_title": false,
   "title_cell": "Table of Contents",
   "title_sidebar": "Contents",
   "toc_cell": false,
   "toc_position": {},
   "toc_section_display": true,
   "toc_window_display": false
  },
  "varInspector": {
   "cols": {
    "lenName": 16,
    "lenType": 16,
    "lenVar": 40
   },
   "kernels_config": {
    "python": {
     "delete_cmd_postfix": "",
     "delete_cmd_prefix": "del ",
     "library": "var_list.py",
     "varRefreshCmd": "print(var_dic_list())"
    },
    "r": {
     "delete_cmd_postfix": ") ",
     "delete_cmd_prefix": "rm(",
     "library": "var_list.r",
     "varRefreshCmd": "cat(var_dic_list()) "
    }
   },
   "types_to_exclude": [
    "module",
    "function",
    "builtin_function_or_method",
    "instance",
    "_Feature"
   ],
   "window_display": false
  }
 },
 "nbformat": 4,
 "nbformat_minor": 5
}
